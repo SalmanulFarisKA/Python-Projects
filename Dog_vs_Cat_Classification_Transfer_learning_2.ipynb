{
  "nbformat": 4,
  "nbformat_minor": 0,
  "metadata": {
    "colab": {
      "provenance": [],
      "authorship_tag": "ABX9TyOWW5p712iYKMcT+XyQME8g",
      "include_colab_link": true
    },
    "kernelspec": {
      "name": "python3",
      "display_name": "Python 3"
    },
    "language_info": {
      "name": "python"
    }
  },
  "cells": [
    {
      "cell_type": "markdown",
      "metadata": {
        "id": "view-in-github",
        "colab_type": "text"
      },
      "source": [
        "<a href=\"https://colab.research.google.com/github/SalmanulFarisKA/Python-Projects/blob/main/Dog_vs_Cat_Classification_Transfer_learning_2.ipynb\" target=\"_parent\"><img src=\"https://colab.research.google.com/assets/colab-badge.svg\" alt=\"Open In Colab\"/></a>"
      ]
    },
    {
      "cell_type": "code",
      "execution_count": 1,
      "metadata": {
        "colab": {
          "base_uri": "https://localhost:8080/"
        },
        "id": "1HdOLHTQESiK",
        "outputId": "54d0ec88-7e9f-42d1-99c4-dcb200507327"
      },
      "outputs": [
        {
          "output_type": "stream",
          "name": "stdout",
          "text": [
            "Requirement already satisfied: kaggle in /usr/local/lib/python3.10/dist-packages (1.5.16)\n",
            "Requirement already satisfied: six>=1.10 in /usr/local/lib/python3.10/dist-packages (from kaggle) (1.16.0)\n",
            "Requirement already satisfied: certifi in /usr/local/lib/python3.10/dist-packages (from kaggle) (2024.2.2)\n",
            "Requirement already satisfied: python-dateutil in /usr/local/lib/python3.10/dist-packages (from kaggle) (2.8.2)\n",
            "Requirement already satisfied: requests in /usr/local/lib/python3.10/dist-packages (from kaggle) (2.31.0)\n",
            "Requirement already satisfied: tqdm in /usr/local/lib/python3.10/dist-packages (from kaggle) (4.66.2)\n",
            "Requirement already satisfied: python-slugify in /usr/local/lib/python3.10/dist-packages (from kaggle) (8.0.4)\n",
            "Requirement already satisfied: urllib3 in /usr/local/lib/python3.10/dist-packages (from kaggle) (2.0.7)\n",
            "Requirement already satisfied: bleach in /usr/local/lib/python3.10/dist-packages (from kaggle) (6.1.0)\n",
            "Requirement already satisfied: webencodings in /usr/local/lib/python3.10/dist-packages (from bleach->kaggle) (0.5.1)\n",
            "Requirement already satisfied: text-unidecode>=1.3 in /usr/local/lib/python3.10/dist-packages (from python-slugify->kaggle) (1.3)\n",
            "Requirement already satisfied: charset-normalizer<4,>=2 in /usr/local/lib/python3.10/dist-packages (from requests->kaggle) (3.3.2)\n",
            "Requirement already satisfied: idna<4,>=2.5 in /usr/local/lib/python3.10/dist-packages (from requests->kaggle) (3.6)\n"
          ]
        }
      ],
      "source": [
        "# installing kaggle library\n",
        "\n",
        "!pip install kaggle"
      ]
    },
    {
      "cell_type": "code",
      "source": [
        "# configuring the path of Kaggle.json file\n",
        "\n",
        "!mkdir -p ~/.kaggle\n",
        "!cp kaggle.json ~/.kaggle/\n",
        "!chmod 600 ~/.kaggle/kaggle.json"
      ],
      "metadata": {
        "colab": {
          "base_uri": "https://localhost:8080/"
        },
        "id": "-PNGQ7GiEdk8",
        "outputId": "d60f536d-49d9-4878-d42e-a964b1e68385"
      },
      "execution_count": 2,
      "outputs": [
        {
          "output_type": "stream",
          "name": "stdout",
          "text": [
            "cp: cannot stat 'kaggle.json': No such file or directory\n",
            "chmod: cannot access '/root/.kaggle/kaggle.json': No such file or directory\n"
          ]
        }
      ]
    },
    {
      "cell_type": "markdown",
      "source": [
        "Importing Dog vs Cat dataset from kaggle"
      ],
      "metadata": {
        "id": "SbXwcMbzIqxK"
      }
    },
    {
      "cell_type": "code",
      "source": [
        "!kaggle competitions download -c dogs-vs-cats"
      ],
      "metadata": {
        "colab": {
          "base_uri": "https://localhost:8080/"
        },
        "id": "UWzTg4F4EyPZ",
        "outputId": "67127160-3305-47f2-ab24-96cfc412e5fc"
      },
      "execution_count": 3,
      "outputs": [
        {
          "output_type": "stream",
          "name": "stdout",
          "text": [
            "Traceback (most recent call last):\n",
            "  File \"/usr/local/bin/kaggle\", line 5, in <module>\n",
            "    from kaggle.cli import main\n",
            "  File \"/usr/local/lib/python3.10/dist-packages/kaggle/__init__.py\", line 23, in <module>\n",
            "    api.authenticate()\n",
            "  File \"/usr/local/lib/python3.10/dist-packages/kaggle/api/kaggle_api_extended.py\", line 403, in authenticate\n",
            "    raise IOError('Could not find {}. Make sure it\\'s located in'\n",
            "OSError: Could not find kaggle.json. Make sure it's located in /root/.kaggle. Or use the environment method.\n"
          ]
        }
      ]
    },
    {
      "cell_type": "code",
      "source": [
        "!ls"
      ],
      "metadata": {
        "colab": {
          "base_uri": "https://localhost:8080/"
        },
        "id": "ef4Hh31zJbd1",
        "outputId": "fef518b3-949d-4f4a-be67-c6ed1f44a067"
      },
      "execution_count": 4,
      "outputs": [
        {
          "output_type": "stream",
          "name": "stdout",
          "text": [
            "sample_data\n"
          ]
        }
      ]
    },
    {
      "cell_type": "code",
      "source": [
        "# extracting the compressed file\n",
        "\n",
        "from zipfile import ZipFile\n",
        "\n",
        "dataset = '/content/dogs-vs-cats.zip'\n",
        "\n",
        "with ZipFile(dataset, 'r') as zip:\n",
        "  zip.extractall()\n",
        "\n",
        "print('The dataset is extracted')"
      ],
      "metadata": {
        "colab": {
          "base_uri": "https://localhost:8080/",
          "height": 347
        },
        "id": "4uzDjT3aJkj5",
        "outputId": "26c4bccd-28a3-4ced-e855-c0bf8b786688"
      },
      "execution_count": 5,
      "outputs": [
        {
          "output_type": "error",
          "ename": "FileNotFoundError",
          "evalue": "[Errno 2] No such file or directory: '/content/dogs-vs-cats.zip'",
          "traceback": [
            "\u001b[0;31m---------------------------------------------------------------------------\u001b[0m",
            "\u001b[0;31mFileNotFoundError\u001b[0m                         Traceback (most recent call last)",
            "\u001b[0;32m<ipython-input-5-901444e79033>\u001b[0m in \u001b[0;36m<cell line: 7>\u001b[0;34m()\u001b[0m\n\u001b[1;32m      5\u001b[0m \u001b[0mdataset\u001b[0m \u001b[0;34m=\u001b[0m \u001b[0;34m'/content/dogs-vs-cats.zip'\u001b[0m\u001b[0;34m\u001b[0m\u001b[0;34m\u001b[0m\u001b[0m\n\u001b[1;32m      6\u001b[0m \u001b[0;34m\u001b[0m\u001b[0m\n\u001b[0;32m----> 7\u001b[0;31m \u001b[0;32mwith\u001b[0m \u001b[0mZipFile\u001b[0m\u001b[0;34m(\u001b[0m\u001b[0mdataset\u001b[0m\u001b[0;34m,\u001b[0m \u001b[0;34m'r'\u001b[0m\u001b[0;34m)\u001b[0m \u001b[0;32mas\u001b[0m \u001b[0mzip\u001b[0m\u001b[0;34m:\u001b[0m\u001b[0;34m\u001b[0m\u001b[0;34m\u001b[0m\u001b[0m\n\u001b[0m\u001b[1;32m      8\u001b[0m   \u001b[0mzip\u001b[0m\u001b[0;34m.\u001b[0m\u001b[0mextractall\u001b[0m\u001b[0;34m(\u001b[0m\u001b[0;34m)\u001b[0m\u001b[0;34m\u001b[0m\u001b[0;34m\u001b[0m\u001b[0m\n\u001b[1;32m      9\u001b[0m \u001b[0;34m\u001b[0m\u001b[0m\n",
            "\u001b[0;32m/usr/lib/python3.10/zipfile.py\u001b[0m in \u001b[0;36m__init__\u001b[0;34m(self, file, mode, compression, allowZip64, compresslevel, strict_timestamps)\u001b[0m\n\u001b[1;32m   1249\u001b[0m             \u001b[0;32mwhile\u001b[0m \u001b[0;32mTrue\u001b[0m\u001b[0;34m:\u001b[0m\u001b[0;34m\u001b[0m\u001b[0;34m\u001b[0m\u001b[0m\n\u001b[1;32m   1250\u001b[0m                 \u001b[0;32mtry\u001b[0m\u001b[0;34m:\u001b[0m\u001b[0;34m\u001b[0m\u001b[0;34m\u001b[0m\u001b[0m\n\u001b[0;32m-> 1251\u001b[0;31m                     \u001b[0mself\u001b[0m\u001b[0;34m.\u001b[0m\u001b[0mfp\u001b[0m \u001b[0;34m=\u001b[0m \u001b[0mio\u001b[0m\u001b[0;34m.\u001b[0m\u001b[0mopen\u001b[0m\u001b[0;34m(\u001b[0m\u001b[0mfile\u001b[0m\u001b[0;34m,\u001b[0m \u001b[0mfilemode\u001b[0m\u001b[0;34m)\u001b[0m\u001b[0;34m\u001b[0m\u001b[0;34m\u001b[0m\u001b[0m\n\u001b[0m\u001b[1;32m   1252\u001b[0m                 \u001b[0;32mexcept\u001b[0m \u001b[0mOSError\u001b[0m\u001b[0;34m:\u001b[0m\u001b[0;34m\u001b[0m\u001b[0;34m\u001b[0m\u001b[0m\n\u001b[1;32m   1253\u001b[0m                     \u001b[0;32mif\u001b[0m \u001b[0mfilemode\u001b[0m \u001b[0;32min\u001b[0m \u001b[0mmodeDict\u001b[0m\u001b[0;34m:\u001b[0m\u001b[0;34m\u001b[0m\u001b[0;34m\u001b[0m\u001b[0m\n",
            "\u001b[0;31mFileNotFoundError\u001b[0m: [Errno 2] No such file or directory: '/content/dogs-vs-cats.zip'"
          ]
        }
      ]
    },
    {
      "cell_type": "code",
      "source": [
        "# extracting the compressed file\n",
        "\n",
        "from zipfile import ZipFile\n",
        "\n",
        "dataset = '/content/train.zip'\n",
        "\n",
        "with ZipFile(dataset, 'r') as zip:\n",
        "  zip.extractall()\n",
        "\n",
        "print('The dataset is extracted')"
      ],
      "metadata": {
        "id": "nH0n6F8NJ7m_"
      },
      "execution_count": null,
      "outputs": []
    },
    {
      "cell_type": "code",
      "source": [
        "import os\n",
        "\n",
        "# counting the number of files in train folder\n",
        "\n",
        "path, dirs, files = next(os.walk('/content/train'))\n",
        "file_count = len(files)\n",
        "\n",
        "print(file_count)"
      ],
      "metadata": {
        "id": "wKAmho_PKHkY"
      },
      "execution_count": null,
      "outputs": []
    },
    {
      "cell_type": "markdown",
      "source": [
        "Printing the name of images"
      ],
      "metadata": {
        "id": "a4xJCulXK-Sc"
      }
    },
    {
      "cell_type": "code",
      "source": [
        "file_names = os.listdir('/content/train')\n",
        "print(file_names)"
      ],
      "metadata": {
        "id": "XtdoPthPKyXx"
      },
      "execution_count": null,
      "outputs": []
    },
    {
      "cell_type": "markdown",
      "source": [
        "Importing the dependencies"
      ],
      "metadata": {
        "id": "5xJUTca-MMXD"
      }
    },
    {
      "cell_type": "code",
      "source": [
        "!pip install google.colab"
      ],
      "metadata": {
        "id": "7CQ7KCk3NOIQ"
      },
      "execution_count": null,
      "outputs": []
    },
    {
      "cell_type": "code",
      "source": [
        "import numpy as np\n",
        "from PIL import Image\n",
        "import matplotlib.pyplot as plt\n",
        "import matplotlib.image as mpimg\n",
        "from sklearn.model_selection import train_test_split\n",
        "from google.colab.patches import cv2_imshow"
      ],
      "metadata": {
        "id": "Vi0psefJLHFK"
      },
      "execution_count": null,
      "outputs": []
    },
    {
      "cell_type": "markdown",
      "source": [
        "Displaying images"
      ],
      "metadata": {
        "id": "tIBt0ISJNnIk"
      }
    },
    {
      "cell_type": "code",
      "source": [
        "img = mpimg.imread('/content/train/dog.3951.jpg')\n",
        "imgplt = plt.imshow(img)\n",
        "plt.show()"
      ],
      "metadata": {
        "id": "AvTi-UsSMRwF"
      },
      "execution_count": null,
      "outputs": []
    },
    {
      "cell_type": "code",
      "source": [
        "img = mpimg.imread('/content/train/cat.10998.jpg')\n",
        "imgplt = plt.imshow(img)\n",
        "plt.show()"
      ],
      "metadata": {
        "id": "TzIshBpwNxWO"
      },
      "execution_count": null,
      "outputs": []
    },
    {
      "cell_type": "code",
      "source": [
        "# finding the number of cat and dog images\n",
        "\n",
        "file_names = os.listdir('/content/train/')\n",
        "\n",
        "dog_count = 0\n",
        "cat_count = 0\n",
        "\n",
        "for img_file in file_names:\n",
        "\n",
        "  name = img_file[0:3]\n",
        "\n",
        "  if name == 'dog':\n",
        "    dog_count += 1\n",
        "\n",
        "  else:\n",
        "    cat_count += 1\n",
        "\n",
        "print('Number of dog images =', dog_count)\n",
        "print('Number of cat images =', cat_count)"
      ],
      "metadata": {
        "id": "QJkZXVjAOWyQ"
      },
      "execution_count": null,
      "outputs": []
    },
    {
      "cell_type": "markdown",
      "source": [
        "Resizing all the images"
      ],
      "metadata": {
        "id": "LoixcMYTPxS1"
      }
    },
    {
      "cell_type": "code",
      "source": [
        "# to get a copy of an image and resized image\n",
        "\n",
        "# creating a directory of these resized images\n",
        "\n",
        "os.mkdir('/content/image resized')"
      ],
      "metadata": {
        "id": "_e1kXQp7PzTw"
      },
      "execution_count": null,
      "outputs": []
    },
    {
      "cell_type": "code",
      "source": [
        "original_folder = '/content/train/'\n",
        "resized_folder = '/content/image resized/'\n",
        "\n",
        "\n",
        "# to take just 2000 first pictures\n",
        "\n",
        "for i in range(2000):\n",
        "\n",
        "  filename = os.listdir(original_folder)[i]\n",
        "  img_path = original_folder+filename # /content/train/+cat.10998.jpg\n",
        "\n",
        "  # open the image and resize it\n",
        "  img = Image.open(img_path)\n",
        "  img = img.resize((224, 224))\n",
        "  img = img.convert('RGB')\n",
        "\n",
        "  newImgPath = resized_folder+filename\n",
        "  img.save(newImgPath)"
      ],
      "metadata": {
        "id": "FLy3meOsRPFD"
      },
      "execution_count": null,
      "outputs": []
    },
    {
      "cell_type": "code",
      "source": [
        "# finding the number of cat and dog images\n",
        "\n",
        "file_names = os.listdir('/content/image resized/')\n",
        "\n",
        "dog_count = 0\n",
        "cat_count = 0\n",
        "\n",
        "for img_file in file_names:\n",
        "\n",
        "  name = img_file[0:3]\n",
        "\n",
        "  if name == 'dog':\n",
        "    dog_count += 1\n",
        "\n",
        "  else:\n",
        "    cat_count += 1\n",
        "\n",
        "print('Number of dog images =', dog_count)\n",
        "print('Number of cat images =', cat_count)"
      ],
      "metadata": {
        "id": "zSPhokAiUV1E"
      },
      "execution_count": null,
      "outputs": []
    },
    {
      "cell_type": "code",
      "source": [
        "# display resized image\n",
        "\n",
        "img = mpimg.imread('/content/image resized/cat.10998.jpg')\n",
        "imgplt = plt.imshow(img)\n",
        "plt.show()"
      ],
      "metadata": {
        "id": "H9Iv2kZIUb48"
      },
      "execution_count": null,
      "outputs": []
    },
    {
      "cell_type": "markdown",
      "source": [
        "Creating labels for resized images\n",
        "\n",
        "cat -> 0\n",
        "dog -> 1"
      ],
      "metadata": {
        "id": "BATbsgoMWDQy"
      }
    },
    {
      "cell_type": "code",
      "source": [
        "# creating a for loop to assign labels to the images\n",
        "\n",
        "filenames = os.listdir('/content/image resized/')\n",
        "\n",
        "labels = []\n",
        "\n",
        "for i in range(2000):\n",
        "\n",
        "  file_name = filenames[i]\n",
        "  label = file_name[0:3]\n",
        "\n",
        "  if label == 'dog':\n",
        "    labels.append(1)\n",
        "  else:\n",
        "    labels.append(0)"
      ],
      "metadata": {
        "id": "EeQ703JbVAF0"
      },
      "execution_count": null,
      "outputs": []
    },
    {
      "cell_type": "code",
      "source": [
        "print(filenames[0:5])\n",
        "print(labels[0:5])\n",
        "print(len(filenames))"
      ],
      "metadata": {
        "id": "we2NiSESeZLU"
      },
      "execution_count": null,
      "outputs": []
    },
    {
      "cell_type": "code",
      "source": [
        "# finding the count of dogs and cats in a different way\n",
        "\n",
        "values, counts = np.unique(labels, return_counts=True)"
      ],
      "metadata": {
        "id": "0D2vhml0tJEW"
      },
      "execution_count": null,
      "outputs": []
    },
    {
      "cell_type": "code",
      "source": [
        "print(values)\n",
        "print(counts)"
      ],
      "metadata": {
        "id": "UFV7YSY3uNPx"
      },
      "execution_count": null,
      "outputs": []
    },
    {
      "cell_type": "markdown",
      "source": [
        "Converting to numpy arrays"
      ],
      "metadata": {
        "id": "_yFoNG7luum0"
      }
    },
    {
      "cell_type": "code",
      "source": [
        "import cv2\n",
        "import glob"
      ],
      "metadata": {
        "id": "qjJuKFpVuUJC"
      },
      "execution_count": null,
      "outputs": []
    },
    {
      "cell_type": "code",
      "source": [
        "image_directory = '/content/image resized/'\n",
        "image_extension = ['png', 'jpg']\n",
        "\n",
        "files = []\n",
        "\n",
        "# locate the file considering both jpg and png format, append it to files]\n",
        "[files.extend(glob.glob(image_directory + '*.' + e)) for e in image_extension]\n",
        "\n",
        "# take every individual image (as a numpy array) and convert it to one numpy array\n",
        "dog_cat_images = np.asarray([cv2.imread(file) for file in files])"
      ],
      "metadata": {
        "id": "h8FnVM79uzf6"
      },
      "execution_count": null,
      "outputs": []
    },
    {
      "cell_type": "code",
      "source": [
        "print(dog_cat_images)"
      ],
      "metadata": {
        "id": "ppC7nVEAxPGo"
      },
      "execution_count": null,
      "outputs": []
    },
    {
      "cell_type": "code",
      "source": [
        "type(dog_cat_images)"
      ],
      "metadata": {
        "id": "VhwdRVG1xgiG"
      },
      "execution_count": null,
      "outputs": []
    },
    {
      "cell_type": "code",
      "source": [
        "print(dog_cat_images.shape)"
      ],
      "metadata": {
        "id": "LrZsDN93x4oS"
      },
      "execution_count": null,
      "outputs": []
    },
    {
      "cell_type": "code",
      "source": [
        "X = dog_cat_images\n",
        "Y = np.asarray(labels)"
      ],
      "metadata": {
        "id": "h4tlBdbOx_lT"
      },
      "execution_count": null,
      "outputs": []
    },
    {
      "cell_type": "code",
      "source": [
        "X_train, X_test, Y_train, Y_test = train_test_split(X, Y, test_size=0.2, random_state=1)"
      ],
      "metadata": {
        "id": "kFUdFSahyRwT"
      },
      "execution_count": null,
      "outputs": []
    },
    {
      "cell_type": "code",
      "source": [
        "# scaling the data (rgb values range from 0 to 255)\n",
        "\n",
        "X_train_scaled = X_train/255\n",
        "X_test_scaled = X_test/255"
      ],
      "metadata": {
        "id": "f1vaSQ5WymVD"
      },
      "execution_count": null,
      "outputs": []
    },
    {
      "cell_type": "code",
      "source": [
        "print(X_train_scaled[0:5])"
      ],
      "metadata": {
        "id": "b-mCkyA7zZ9y"
      },
      "execution_count": null,
      "outputs": []
    },
    {
      "cell_type": "markdown",
      "source": [
        "Building the Neural Network"
      ],
      "metadata": {
        "id": "plHkVgP9zpEn"
      }
    },
    {
      "cell_type": "code",
      "source": [
        "import tensorflow as tf\n",
        "import tensorflow_hub as hub"
      ],
      "metadata": {
        "id": "D9VlhQBJziNk"
      },
      "execution_count": null,
      "outputs": []
    },
    {
      "cell_type": "code",
      "source": [
        "mobilenet_model = 'https://www.kaggle.com/models/google/mobilenet-v2/frameworks/tensorFlow2/variations/tf2-preview-feature-vector/versions/4?tfhub-redirect=true'\n",
        "pretrained_model = hub.KerasLayer(mobilenet_model, input_shape=(224, 224, 3), trainable=False)"
      ],
      "metadata": {
        "id": "vtNVl03pzwXi"
      },
      "execution_count": null,
      "outputs": []
    },
    {
      "cell_type": "code",
      "source": [
        "num_of_classes = 2\n",
        "\n",
        "model = tf.keras.Sequential(\n",
        "    [\n",
        "      pretrained_model,\n",
        "      tf.keras.layers.Dense(num_of_classes)\n",
        "    ]\n",
        ")\n",
        "\n",
        "model.summary()"
      ],
      "metadata": {
        "id": "bIOoD9qG1M9s"
      },
      "execution_count": null,
      "outputs": []
    },
    {
      "cell_type": "code",
      "source": [
        "model.compile(\n",
        "    optimizer='adam',\n",
        "    loss = tf.keras.losses.SparseCategoricalCrossentropy(from_logits=True),\n",
        "    metrics = ['acc']\n",
        ")"
      ],
      "metadata": {
        "id": "F1gRoypE16ha"
      },
      "execution_count": null,
      "outputs": []
    },
    {
      "cell_type": "code",
      "source": [
        "model.fit(X_train_scaled, Y_train, epochs=5)"
      ],
      "metadata": {
        "id": "5tHxFrCq4Vla"
      },
      "execution_count": null,
      "outputs": []
    },
    {
      "cell_type": "code",
      "source": [
        "score, acc = model.evaluate(X_test_scaled, Y_test)\n",
        "print('Test Loss =', score)\n",
        "print('Test Accuracy =', acc)"
      ],
      "metadata": {
        "id": "Hi53SYPX4ZkS"
      },
      "execution_count": null,
      "outputs": []
    },
    {
      "cell_type": "markdown",
      "source": [
        "Predictive System"
      ],
      "metadata": {
        "id": "7Pp_Ydu56urZ"
      }
    },
    {
      "cell_type": "code",
      "source": [
        "input_image_path = input('Path of the image to be predicted: ')\n",
        "\n",
        "input_image = cv2.imread(input_image_path)\n",
        "\n",
        "cv2_imshow(input_image)\n",
        "\n",
        "input_image_resize = cv2.resize(input_image, (224, 224))\n",
        "\n",
        "input_image_scaled = input_image_resize/255\n",
        "\n",
        "image_reshaped = np.reshape(input_image_scaled, [1, 224, 224, 3])\n",
        "# to tell the model that im making prediction for only one image (as opposed to [2000, 224, 224, 3])\n",
        "\n",
        "input_prediction = model.predict(image_reshaped)\n",
        "\n",
        "input_pred_label = np.argmax(input_prediction)\n",
        "\n",
        "if input_pred_label == 0:\n",
        "  print(\"The image represents a cat\")\n",
        "else:\n",
        "  print(\"The image represents a dog\")"
      ],
      "metadata": {
        "id": "Xav3f9v86hMa"
      },
      "execution_count": null,
      "outputs": []
    },
    {
      "cell_type": "code",
      "source": [],
      "metadata": {
        "id": "GvxUyRvL_MUP"
      },
      "execution_count": null,
      "outputs": []
    }
  ]
}